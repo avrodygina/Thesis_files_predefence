{
 "cells": [
  {
   "cell_type": "markdown",
   "id": "05eeafab",
   "metadata": {},
   "source": [
    "# Distribution by counties"
   ]
  },
  {
   "cell_type": "code",
   "execution_count": 1,
   "id": "4f279278",
   "metadata": {},
   "outputs": [],
   "source": [
    "import geopandas as gpd\n",
    "import rasterio\n",
    "from rasterstats import zonal_stats\n",
    "import os\n",
    "import numpy as np\n",
    "import fiona\n",
    "from tqdm import tqdm\n",
    "from shapely.geometry import shape, Polygon\n",
    "from rasterio import features"
   ]
  },
  {
   "cell_type": "markdown",
   "id": "5fbf1f13",
   "metadata": {},
   "source": [
    "# Table of contents\n",
    "\n",
    "\n",
    "\n",
    "#### [1. Counties preparation](#Counties-preparation)\n",
    "\n",
    "#### [2. Scenario 1](#Scenario-1)\n",
    "\n",
    "#### [3. Scenario 2](#Scenario-2)\n",
    "\n",
    "#### [4. Scenario 3](#Scenario-3)\n"
   ]
  },
  {
   "cell_type": "markdown",
   "id": "1ca50c17",
   "metadata": {},
   "source": [
    "# Counties preparation\n",
    "[[Click here to turn back to the table of contents]](#Table-of-contents)"
   ]
  },
  {
   "cell_type": "markdown",
   "id": "9e410e23",
   "metadata": {},
   "source": [
    "Loading base layer to see total number of pixels"
   ]
  },
  {
   "cell_type": "code",
   "execution_count": 4,
   "id": "8d6161bf",
   "metadata": {},
   "outputs": [
    {
     "name": "stdout",
     "output_type": "stream",
     "text": [
      "Number of pixels equal to 1: 2716698675\n",
      "Total area of Estonia: 4346718 ha\n"
     ]
    }
   ],
   "source": [
    "#taking parameters from Estonian layer\n",
    "path_scenario_1_r = '../../Thesis_2024_updates/Raster_Data/Scenario_1/'\n",
    "file_name_whole_estonia_r = 'whole_estonia/Estonia_rasterized_0_1.tif'\n",
    "raster_base_layer = os.path.join(path_scenario_1_r, file_name_whole_estonia_r)\n",
    "\n",
    "with rasterio.open(raster_base_layer) as src:\n",
    "    base_trans = src.transform\n",
    "    base_profile = src.profile\n",
    "    base_shape = src.shape\n",
    "    base_data = src.read(1)\n",
    "    \n",
    "# Create a boolean mask where True represents pixels with value 1\n",
    "mask = base_data == 1\n",
    "\n",
    "# Count the number of True values in the mask\n",
    "num_total_pixels = np.sum(mask)\n",
    "total_area_ha = round((num_total_pixels * 16)/10000)\n",
    "\n",
    "print(\"Number of pixels equal to 1:\", num_total_pixels)\n",
    "print(\"Total area of Estonia: {} ha\".format(total_area_ha))"
   ]
  },
  {
   "cell_type": "markdown",
   "id": "ea0e7172",
   "metadata": {},
   "source": [
    "Loading counties"
   ]
  },
  {
   "cell_type": "code",
   "execution_count": 5,
   "id": "77a2c2d6",
   "metadata": {},
   "outputs": [],
   "source": [
    "#taking parameters from Estonian layer\n",
    "#vector path (input)\n",
    "file_name_counties = '../../Thesis_2024_updates/Vector_Data/counties/maakond_shp/maakond_20231101.shp'"
   ]
  },
  {
   "cell_type": "markdown",
   "id": "33ef5493",
   "metadata": {},
   "source": [
    "Reading counties"
   ]
  },
  {
   "cell_type": "code",
   "execution_count": 6,
   "id": "7058ce36",
   "metadata": {},
   "outputs": [
    {
     "data": {
      "text/plain": [
       "(15, 3)"
      ]
     },
     "execution_count": 6,
     "metadata": {},
     "output_type": "execute_result"
    }
   ],
   "source": [
    "# Load the shapefile with the counties\n",
    "counties = gpd.read_file(file_name_counties)\n",
    "counties.shape"
   ]
  },
  {
   "cell_type": "markdown",
   "id": "867a5b02",
   "metadata": {},
   "source": [
    "Preprocess counties"
   ]
  },
  {
   "cell_type": "code",
   "execution_count": 7,
   "id": "0042f70f",
   "metadata": {},
   "outputs": [
    {
     "data": {
      "text/html": [
       "<div>\n",
       "<style scoped>\n",
       "    .dataframe tbody tr th:only-of-type {\n",
       "        vertical-align: middle;\n",
       "    }\n",
       "\n",
       "    .dataframe tbody tr th {\n",
       "        vertical-align: top;\n",
       "    }\n",
       "\n",
       "    .dataframe thead th {\n",
       "        text-align: right;\n",
       "    }\n",
       "</style>\n",
       "<table border=\"1\" class=\"dataframe\">\n",
       "  <thead>\n",
       "    <tr style=\"text-align: right;\">\n",
       "      <th></th>\n",
       "      <th>MNIMI</th>\n",
       "      <th>MKOOD</th>\n",
       "      <th>geometry</th>\n",
       "      <th>name</th>\n",
       "    </tr>\n",
       "  </thead>\n",
       "  <tbody>\n",
       "    <tr>\n",
       "      <th>0</th>\n",
       "      <td>Saare maakond</td>\n",
       "      <td>0074</td>\n",
       "      <td>MULTIPOLYGON (((455191.283 6404986.597, 455187...</td>\n",
       "      <td>Saare county</td>\n",
       "    </tr>\n",
       "    <tr>\n",
       "      <th>1</th>\n",
       "      <td>Viljandi maakond</td>\n",
       "      <td>0084</td>\n",
       "      <td>MULTIPOLYGON (((621049.180 6453125.120, 621052...</td>\n",
       "      <td>Viljandi county</td>\n",
       "    </tr>\n",
       "    <tr>\n",
       "      <th>2</th>\n",
       "      <td>Hiiu maakond</td>\n",
       "      <td>0039</td>\n",
       "      <td>MULTIPOLYGON (((418048.719 6506294.706, 418045...</td>\n",
       "      <td>Hiiu county</td>\n",
       "    </tr>\n",
       "    <tr>\n",
       "      <th>3</th>\n",
       "      <td>Harju maakond</td>\n",
       "      <td>0037</td>\n",
       "      <td>MULTIPOLYGON (((504775.973 6570562.880, 504787...</td>\n",
       "      <td>Harju county</td>\n",
       "    </tr>\n",
       "    <tr>\n",
       "      <th>4</th>\n",
       "      <td>Lääne maakond</td>\n",
       "      <td>0056</td>\n",
       "      <td>MULTIPOLYGON (((460628.287 6512871.566, 460630...</td>\n",
       "      <td>Lääne county</td>\n",
       "    </tr>\n",
       "  </tbody>\n",
       "</table>\n",
       "</div>"
      ],
      "text/plain": [
       "              MNIMI MKOOD                                           geometry  \\\n",
       "0     Saare maakond  0074  MULTIPOLYGON (((455191.283 6404986.597, 455187...   \n",
       "1  Viljandi maakond  0084  MULTIPOLYGON (((621049.180 6453125.120, 621052...   \n",
       "2      Hiiu maakond  0039  MULTIPOLYGON (((418048.719 6506294.706, 418045...   \n",
       "3     Harju maakond  0037  MULTIPOLYGON (((504775.973 6570562.880, 504787...   \n",
       "4     Lääne maakond  0056  MULTIPOLYGON (((460628.287 6512871.566, 460630...   \n",
       "\n",
       "              name  \n",
       "0     Saare county  \n",
       "1  Viljandi county  \n",
       "2      Hiiu county  \n",
       "3     Harju county  \n",
       "4     Lääne county  "
      ]
     },
     "execution_count": 7,
     "metadata": {},
     "output_type": "execute_result"
    }
   ],
   "source": [
    "counties['name'] = counties['MNIMI'].apply(lambda x: x[:-8] + ' county')\n",
    "counties.head()"
   ]
  },
  {
   "cell_type": "markdown",
   "id": "12cd89c7",
   "metadata": {},
   "source": [
    "Calculating the areas of the counties"
   ]
  },
  {
   "cell_type": "code",
   "execution_count": 8,
   "id": "0fbd01b5",
   "metadata": {},
   "outputs": [],
   "source": [
    "# Open the raster layer\n",
    "with rasterio.open(raster_base_layer) as src:\n",
    "    affine = src.transform\n",
    "    array = src.read(1)  # Read the first band\n",
    "    \n",
    "    # Define the statistic to calculate: count of pixels with value 1\n",
    "    stats = zonal_stats(counties, array, affine=affine, stats=['count'], \n",
    "                        categorical=True, nodata=src.nodata)\n",
    "\n",
    "    # Adding the results to the counties GeoDataFrame\n",
    "    counties['num_pixels_county'] = [s.get(1, 0) for s in stats]  # Get count of 1's, default to 0 if no 1's\n",
    "    counties['county_area_ha'] = counties['num_pixels_county'].apply(lambda x: round((x * 16)/10000))"
   ]
  },
  {
   "cell_type": "markdown",
   "id": "a38318c9",
   "metadata": {},
   "source": [
    "# Scenario 1\n",
    "[[Click here to turn back to the table of contents]](#Table-of-contents)"
   ]
  },
  {
   "cell_type": "markdown",
   "id": "f2fe7727",
   "metadata": {},
   "source": [
    "Loading suitable lands"
   ]
  },
  {
   "cell_type": "code",
   "execution_count": 7,
   "id": "8f3c6bd2",
   "metadata": {},
   "outputs": [],
   "source": [
    "file_name_suitable_lands_s1 = '../../Thesis_2024_updates/Subtraction_Results/Step27_no_electric_lines.tif'"
   ]
  },
  {
   "cell_type": "code",
   "execution_count": 8,
   "id": "1734f818",
   "metadata": {},
   "outputs": [],
   "source": [
    "# Open the raster layer\n",
    "with rasterio.open(file_name_suitable_lands_s1) as src:\n",
    "    affine = src.transform\n",
    "    array = src.read(1)  # Read the first band\n",
    "    \n",
    "    # Define the statistic to calculate: count of pixels with value 1\n",
    "    stats = zonal_stats(counties, array, affine=affine, stats=['count'], \n",
    "                        categorical=True, nodata=src.nodata)\n",
    "\n",
    "    # Adding the results to the counties GeoDataFrame\n",
    "    counties['num_pixels_S1'] = [s.get(1, 0) for s in stats]  # Get count of 1's, default to 0 if no 1's\n",
    "    counties['S1_suitable_area_ha'] = counties['num_pixels_S1'].apply(lambda x: round((x * 16)/10000))"
   ]
  },
  {
   "cell_type": "code",
   "execution_count": 9,
   "id": "8df6a0d9",
   "metadata": {},
   "outputs": [],
   "source": [
    "counties['percent_of_county'] = round((counties['S1_suitable_area_ha']/counties['county_area_ha']) * 100, 1)\n",
    "counties['percent_of_county_str'] = counties['percent_of_county'].apply(lambda x: str(x) + '%')"
   ]
  },
  {
   "cell_type": "code",
   "execution_count": 10,
   "id": "6cadab0a",
   "metadata": {},
   "outputs": [
    {
     "data": {
      "text/html": [
       "<div>\n",
       "<style scoped>\n",
       "    .dataframe tbody tr th:only-of-type {\n",
       "        vertical-align: middle;\n",
       "    }\n",
       "\n",
       "    .dataframe tbody tr th {\n",
       "        vertical-align: top;\n",
       "    }\n",
       "\n",
       "    .dataframe thead th {\n",
       "        text-align: right;\n",
       "    }\n",
       "</style>\n",
       "<table border=\"1\" class=\"dataframe\">\n",
       "  <thead>\n",
       "    <tr style=\"text-align: right;\">\n",
       "      <th></th>\n",
       "      <th>MNIMI</th>\n",
       "      <th>MKOOD</th>\n",
       "      <th>geometry</th>\n",
       "      <th>name</th>\n",
       "      <th>num_pixels_county</th>\n",
       "      <th>county_area_ha</th>\n",
       "      <th>num_pixels_S1</th>\n",
       "      <th>S1_suitable_area_ha</th>\n",
       "      <th>percent_of_county</th>\n",
       "      <th>percent_of_county_str</th>\n",
       "    </tr>\n",
       "  </thead>\n",
       "  <tbody>\n",
       "    <tr>\n",
       "      <th>0</th>\n",
       "      <td>Saare maakond</td>\n",
       "      <td>0074</td>\n",
       "      <td>MULTIPOLYGON (((455191.283 6404986.597, 455187...</td>\n",
       "      <td>Saare county</td>\n",
       "      <td>183644942</td>\n",
       "      <td>293832</td>\n",
       "      <td>10701319</td>\n",
       "      <td>17122</td>\n",
       "      <td>5.8</td>\n",
       "      <td>5.8%</td>\n",
       "    </tr>\n",
       "    <tr>\n",
       "      <th>1</th>\n",
       "      <td>Viljandi maakond</td>\n",
       "      <td>0084</td>\n",
       "      <td>MULTIPOLYGON (((621049.180 6453125.120, 621052...</td>\n",
       "      <td>Viljandi county</td>\n",
       "      <td>213756560</td>\n",
       "      <td>342010</td>\n",
       "      <td>5369366</td>\n",
       "      <td>8591</td>\n",
       "      <td>2.5</td>\n",
       "      <td>2.5%</td>\n",
       "    </tr>\n",
       "    <tr>\n",
       "      <th>2</th>\n",
       "      <td>Hiiu maakond</td>\n",
       "      <td>0039</td>\n",
       "      <td>MULTIPOLYGON (((418048.719 6506294.706, 418045...</td>\n",
       "      <td>Hiiu county</td>\n",
       "      <td>64535957</td>\n",
       "      <td>103258</td>\n",
       "      <td>4046066</td>\n",
       "      <td>6474</td>\n",
       "      <td>6.3</td>\n",
       "      <td>6.3%</td>\n",
       "    </tr>\n",
       "    <tr>\n",
       "      <th>3</th>\n",
       "      <td>Harju maakond</td>\n",
       "      <td>0037</td>\n",
       "      <td>MULTIPOLYGON (((504775.973 6570562.880, 504787...</td>\n",
       "      <td>Harju county</td>\n",
       "      <td>270490035</td>\n",
       "      <td>432784</td>\n",
       "      <td>15975309</td>\n",
       "      <td>25560</td>\n",
       "      <td>5.9</td>\n",
       "      <td>5.9%</td>\n",
       "    </tr>\n",
       "    <tr>\n",
       "      <th>4</th>\n",
       "      <td>Lääne maakond</td>\n",
       "      <td>0056</td>\n",
       "      <td>MULTIPOLYGON (((460628.287 6512871.566, 460630...</td>\n",
       "      <td>Lääne county</td>\n",
       "      <td>113484461</td>\n",
       "      <td>181575</td>\n",
       "      <td>7689872</td>\n",
       "      <td>12304</td>\n",
       "      <td>6.8</td>\n",
       "      <td>6.8%</td>\n",
       "    </tr>\n",
       "  </tbody>\n",
       "</table>\n",
       "</div>"
      ],
      "text/plain": [
       "              MNIMI MKOOD                                           geometry  \\\n",
       "0     Saare maakond  0074  MULTIPOLYGON (((455191.283 6404986.597, 455187...   \n",
       "1  Viljandi maakond  0084  MULTIPOLYGON (((621049.180 6453125.120, 621052...   \n",
       "2      Hiiu maakond  0039  MULTIPOLYGON (((418048.719 6506294.706, 418045...   \n",
       "3     Harju maakond  0037  MULTIPOLYGON (((504775.973 6570562.880, 504787...   \n",
       "4     Lääne maakond  0056  MULTIPOLYGON (((460628.287 6512871.566, 460630...   \n",
       "\n",
       "              name  num_pixels_county  county_area_ha  num_pixels_S1  \\\n",
       "0     Saare county          183644942          293832       10701319   \n",
       "1  Viljandi county          213756560          342010        5369366   \n",
       "2      Hiiu county           64535957          103258        4046066   \n",
       "3     Harju county          270490035          432784       15975309   \n",
       "4     Lääne county          113484461          181575        7689872   \n",
       "\n",
       "   S1_suitable_area_ha  percent_of_county percent_of_county_str  \n",
       "0                17122                5.8                  5.8%  \n",
       "1                 8591                2.5                  2.5%  \n",
       "2                 6474                6.3                  6.3%  \n",
       "3                25560                5.9                  5.9%  \n",
       "4                12304                6.8                  6.8%  "
      ]
     },
     "execution_count": 10,
     "metadata": {},
     "output_type": "execute_result"
    }
   ],
   "source": [
    "counties.head()"
   ]
  },
  {
   "cell_type": "code",
   "execution_count": 11,
   "id": "328910a5",
   "metadata": {},
   "outputs": [
    {
     "name": "stderr",
     "output_type": "stream",
     "text": [
      "/var/folders/z4/9280v_g94039tvyzq2n4yrd40000gn/T/ipykernel_20631/556985071.py:1: UserWarning: Column names longer than 10 characters will be truncated when saved to ESRI Shapefile.\n",
      "  counties.to_file('../../Thesis_2024_updates/Vector_Data/counties/counties_with_pixel_count_S1.shp')\n"
     ]
    }
   ],
   "source": [
    "counties.to_file('../../Thesis_2024_updates/Vector_Data/counties/counties_with_pixel_count_S1.shp')"
   ]
  },
  {
   "cell_type": "code",
   "execution_count": 13,
   "id": "a1448333",
   "metadata": {},
   "outputs": [
    {
     "data": {
      "text/html": [
       "<div>\n",
       "<style scoped>\n",
       "    .dataframe tbody tr th:only-of-type {\n",
       "        vertical-align: middle;\n",
       "    }\n",
       "\n",
       "    .dataframe tbody tr th {\n",
       "        vertical-align: top;\n",
       "    }\n",
       "\n",
       "    .dataframe thead th {\n",
       "        text-align: right;\n",
       "    }\n",
       "</style>\n",
       "<table border=\"1\" class=\"dataframe\">\n",
       "  <thead>\n",
       "    <tr style=\"text-align: right;\">\n",
       "      <th></th>\n",
       "      <th>name</th>\n",
       "      <th>S1_suitable_area_ha</th>\n",
       "      <th>county_area_ha</th>\n",
       "      <th>percent_of_county_str</th>\n",
       "    </tr>\n",
       "  </thead>\n",
       "  <tbody>\n",
       "    <tr>\n",
       "      <th>4</th>\n",
       "      <td>Lääne county</td>\n",
       "      <td>12304</td>\n",
       "      <td>181575</td>\n",
       "      <td>6.8%</td>\n",
       "    </tr>\n",
       "    <tr>\n",
       "      <th>2</th>\n",
       "      <td>Hiiu county</td>\n",
       "      <td>6474</td>\n",
       "      <td>103258</td>\n",
       "      <td>6.3%</td>\n",
       "    </tr>\n",
       "    <tr>\n",
       "      <th>3</th>\n",
       "      <td>Harju county</td>\n",
       "      <td>25560</td>\n",
       "      <td>432784</td>\n",
       "      <td>5.9%</td>\n",
       "    </tr>\n",
       "    <tr>\n",
       "      <th>0</th>\n",
       "      <td>Saare county</td>\n",
       "      <td>17122</td>\n",
       "      <td>293832</td>\n",
       "      <td>5.8%</td>\n",
       "    </tr>\n",
       "    <tr>\n",
       "      <th>13</th>\n",
       "      <td>Lääne-Viru county</td>\n",
       "      <td>15001</td>\n",
       "      <td>369538</td>\n",
       "      <td>4.1%</td>\n",
       "    </tr>\n",
       "    <tr>\n",
       "      <th>6</th>\n",
       "      <td>Ida-Viru county</td>\n",
       "      <td>11844</td>\n",
       "      <td>297177</td>\n",
       "      <td>4.0%</td>\n",
       "    </tr>\n",
       "    <tr>\n",
       "      <th>8</th>\n",
       "      <td>Tartu county</td>\n",
       "      <td>12808</td>\n",
       "      <td>334947</td>\n",
       "      <td>3.8%</td>\n",
       "    </tr>\n",
       "    <tr>\n",
       "      <th>12</th>\n",
       "      <td>Pärnu county</td>\n",
       "      <td>20032</td>\n",
       "      <td>541910</td>\n",
       "      <td>3.7%</td>\n",
       "    </tr>\n",
       "    <tr>\n",
       "      <th>5</th>\n",
       "      <td>Rapla county</td>\n",
       "      <td>8491</td>\n",
       "      <td>276423</td>\n",
       "      <td>3.1%</td>\n",
       "    </tr>\n",
       "    <tr>\n",
       "      <th>10</th>\n",
       "      <td>Võru county</td>\n",
       "      <td>8191</td>\n",
       "      <td>277317</td>\n",
       "      <td>3.0%</td>\n",
       "    </tr>\n",
       "    <tr>\n",
       "      <th>7</th>\n",
       "      <td>Valga county</td>\n",
       "      <td>5577</td>\n",
       "      <td>191704</td>\n",
       "      <td>2.9%</td>\n",
       "    </tr>\n",
       "    <tr>\n",
       "      <th>14</th>\n",
       "      <td>Põlva county</td>\n",
       "      <td>5042</td>\n",
       "      <td>182337</td>\n",
       "      <td>2.8%</td>\n",
       "    </tr>\n",
       "    <tr>\n",
       "      <th>1</th>\n",
       "      <td>Viljandi county</td>\n",
       "      <td>8591</td>\n",
       "      <td>342010</td>\n",
       "      <td>2.5%</td>\n",
       "    </tr>\n",
       "    <tr>\n",
       "      <th>11</th>\n",
       "      <td>Jõgeva county</td>\n",
       "      <td>6144</td>\n",
       "      <td>254494</td>\n",
       "      <td>2.4%</td>\n",
       "    </tr>\n",
       "    <tr>\n",
       "      <th>9</th>\n",
       "      <td>Järva county</td>\n",
       "      <td>5772</td>\n",
       "      <td>267412</td>\n",
       "      <td>2.2%</td>\n",
       "    </tr>\n",
       "  </tbody>\n",
       "</table>\n",
       "</div>"
      ],
      "text/plain": [
       "                 name  S1_suitable_area_ha  county_area_ha  \\\n",
       "4        Lääne county                12304          181575   \n",
       "2         Hiiu county                 6474          103258   \n",
       "3        Harju county                25560          432784   \n",
       "0        Saare county                17122          293832   \n",
       "13  Lääne-Viru county                15001          369538   \n",
       "6     Ida-Viru county                11844          297177   \n",
       "8        Tartu county                12808          334947   \n",
       "12       Pärnu county                20032          541910   \n",
       "5        Rapla county                 8491          276423   \n",
       "10        Võru county                 8191          277317   \n",
       "7        Valga county                 5577          191704   \n",
       "14       Põlva county                 5042          182337   \n",
       "1     Viljandi county                 8591          342010   \n",
       "11      Jõgeva county                 6144          254494   \n",
       "9        Järva county                 5772          267412   \n",
       "\n",
       "   percent_of_county_str  \n",
       "4                   6.8%  \n",
       "2                   6.3%  \n",
       "3                   5.9%  \n",
       "0                   5.8%  \n",
       "13                  4.1%  \n",
       "6                   4.0%  \n",
       "8                   3.8%  \n",
       "12                  3.7%  \n",
       "5                   3.1%  \n",
       "10                  3.0%  \n",
       "7                   2.9%  \n",
       "14                  2.8%  \n",
       "1                   2.5%  \n",
       "11                  2.4%  \n",
       "9                   2.2%  "
      ]
     },
     "execution_count": 13,
     "metadata": {},
     "output_type": "execute_result"
    }
   ],
   "source": [
    "counties_nice = counties.sort_values(by='percent_of_county', ascending=False)[['name', 'S1_suitable_area_ha', 'county_area_ha', 'percent_of_county_str']]\n",
    "counties_nice"
   ]
  },
  {
   "cell_type": "markdown",
   "id": "b37343ea",
   "metadata": {},
   "source": [
    "# Scenario 2\n",
    "[[Click here to turn back to the table of contents]](#Table-of-contents)"
   ]
  },
  {
   "cell_type": "markdown",
   "id": "f339f16b",
   "metadata": {},
   "source": [
    "Loading suitable lands"
   ]
  },
  {
   "cell_type": "code",
   "execution_count": null,
   "id": "92d2b80c",
   "metadata": {},
   "outputs": [],
   "source": [
    "file_name_suitable_lands_s2 = '../../Thesis_2024_updates/Subtraction_Results/'"
   ]
  },
  {
   "cell_type": "code",
   "execution_count": null,
   "id": "536e4948",
   "metadata": {},
   "outputs": [],
   "source": [
    "# Open the raster layer\n",
    "with rasterio.open(file_name_suitable_lands_s2) as src:\n",
    "    affine = src.transform\n",
    "    array = src.read(1)  # Read the first band\n",
    "    \n",
    "    # Define the statistic to calculate: count of pixels with value 1\n",
    "    stats = zonal_stats(counties, array, affine=affine, stats=['count'], \n",
    "                        categorical=True, nodata=src.nodata)\n",
    "\n",
    "    # Adding the results to the counties GeoDataFrame\n",
    "    counties['num_pixels_S2'] = [s.get(1, 0) for s in stats]  # Get count of 1's, default to 0 if no 1's\n",
    "    counties['S2_suitable_area_ha'] = counties['num_pixels_S2'].apply(lambda x: round((x * 16)/10000))"
   ]
  },
  {
   "cell_type": "code",
   "execution_count": null,
   "id": "fde2321f",
   "metadata": {},
   "outputs": [],
   "source": [
    "counties['percent_of_county_S2'] = round((counties['S2_suitable_area_ha']/counties['county_area_ha']) * 100, 1)\n",
    "counties['percent_of_county_S2_str'] = counties['percent_of_county_S2'].apply(lambda x: str(x) + '%')"
   ]
  },
  {
   "cell_type": "markdown",
   "id": "add9bce2",
   "metadata": {},
   "source": [
    "# Scenario 3\n",
    "[[Click here to turn back to the table of contents]](#Table-of-contents)"
   ]
  },
  {
   "cell_type": "markdown",
   "id": "8375e63a",
   "metadata": {},
   "source": [
    "Loading suitable lands"
   ]
  },
  {
   "cell_type": "code",
   "execution_count": 14,
   "id": "c90431de",
   "metadata": {},
   "outputs": [],
   "source": [
    "file_name_suitable_lands_s3 = '../../Thesis_2024_updates/Subtraction_Results/SCENARIO_3_seminatural_grasslands.tif'"
   ]
  },
  {
   "cell_type": "code",
   "execution_count": 16,
   "id": "0e3b5986",
   "metadata": {},
   "outputs": [],
   "source": [
    "# Open the raster layer\n",
    "with rasterio.open(file_name_suitable_lands_s3) as src:\n",
    "    affine = src.transform\n",
    "    array = src.read(1)  # Read the first band\n",
    "    \n",
    "    # Define the statistic to calculate: count of pixels with value 1\n",
    "    stats = zonal_stats(counties, array, affine=affine, stats=['count'], \n",
    "                        categorical=True, nodata=src.nodata)\n",
    "\n",
    "    # Adding the results to the counties GeoDataFrame\n",
    "    counties['num_pixels_S3'] = [s.get(1, 0) for s in stats]  # Get count of 1's, default to 0 if no 1's\n",
    "    counties['S3_suitable_area_ha'] = counties['num_pixels_S3'].apply(lambda x: round((x * 16)/10000))"
   ]
  },
  {
   "cell_type": "code",
   "execution_count": 23,
   "id": "52bd1fb3",
   "metadata": {},
   "outputs": [],
   "source": [
    "counties['percent_of_county_S3'] = round((counties['S3_suitable_area_ha']/counties['county_area_ha']) * 100, 1)\n",
    "counties['percent_of_county_S3_str'] = counties['percent_of_county_S3'].apply(lambda x: str(x) + '%')"
   ]
  },
  {
   "cell_type": "code",
   "execution_count": 24,
   "id": "121c2037",
   "metadata": {},
   "outputs": [],
   "source": [
    "S3_counties = counties[['name', 'county_area_ha', 'S3_suitable_area_ha', 'percent_of_county_S3', 'percent_of_county_S3_str', 'geometry']]"
   ]
  },
  {
   "cell_type": "code",
   "execution_count": 25,
   "id": "0126f40c",
   "metadata": {},
   "outputs": [
    {
     "name": "stderr",
     "output_type": "stream",
     "text": [
      "/var/folders/z4/9280v_g94039tvyzq2n4yrd40000gn/T/ipykernel_20631/1407140751.py:1: UserWarning: Column names longer than 10 characters will be truncated when saved to ESRI Shapefile.\n",
      "  S3_counties.to_file('../../Thesis_2024_updates/Vector_Data/counties/counties_with_pixel_count_S3.shp')\n"
     ]
    }
   ],
   "source": [
    "S3_counties.to_file('../../Thesis_2024_updates/Vector_Data/counties/counties_with_pixel_count_S3.shp')"
   ]
  },
  {
   "cell_type": "code",
   "execution_count": 27,
   "id": "914d192d",
   "metadata": {},
   "outputs": [
    {
     "data": {
      "text/html": [
       "<div>\n",
       "<style scoped>\n",
       "    .dataframe tbody tr th:only-of-type {\n",
       "        vertical-align: middle;\n",
       "    }\n",
       "\n",
       "    .dataframe tbody tr th {\n",
       "        vertical-align: top;\n",
       "    }\n",
       "\n",
       "    .dataframe thead th {\n",
       "        text-align: right;\n",
       "    }\n",
       "</style>\n",
       "<table border=\"1\" class=\"dataframe\">\n",
       "  <thead>\n",
       "    <tr style=\"text-align: right;\">\n",
       "      <th></th>\n",
       "      <th>name</th>\n",
       "      <th>S3_suitable_area_ha</th>\n",
       "      <th>county_area_ha</th>\n",
       "      <th>percent_of_county_S3_str</th>\n",
       "    </tr>\n",
       "  </thead>\n",
       "  <tbody>\n",
       "    <tr>\n",
       "      <th>3</th>\n",
       "      <td>Harju county</td>\n",
       "      <td>22299</td>\n",
       "      <td>432784</td>\n",
       "      <td>5.2%</td>\n",
       "    </tr>\n",
       "    <tr>\n",
       "      <th>6</th>\n",
       "      <td>Ida-Viru county</td>\n",
       "      <td>11357</td>\n",
       "      <td>297177</td>\n",
       "      <td>3.8%</td>\n",
       "    </tr>\n",
       "    <tr>\n",
       "      <th>8</th>\n",
       "      <td>Tartu county</td>\n",
       "      <td>12398</td>\n",
       "      <td>334947</td>\n",
       "      <td>3.7%</td>\n",
       "    </tr>\n",
       "    <tr>\n",
       "      <th>13</th>\n",
       "      <td>Lääne-Viru county</td>\n",
       "      <td>13600</td>\n",
       "      <td>369538</td>\n",
       "      <td>3.7%</td>\n",
       "    </tr>\n",
       "    <tr>\n",
       "      <th>4</th>\n",
       "      <td>Lääne county</td>\n",
       "      <td>5568</td>\n",
       "      <td>181575</td>\n",
       "      <td>3.1%</td>\n",
       "    </tr>\n",
       "    <tr>\n",
       "      <th>5</th>\n",
       "      <td>Rapla county</td>\n",
       "      <td>8131</td>\n",
       "      <td>276423</td>\n",
       "      <td>2.9%</td>\n",
       "    </tr>\n",
       "    <tr>\n",
       "      <th>0</th>\n",
       "      <td>Saare county</td>\n",
       "      <td>8181</td>\n",
       "      <td>293832</td>\n",
       "      <td>2.8%</td>\n",
       "    </tr>\n",
       "    <tr>\n",
       "      <th>10</th>\n",
       "      <td>Võru county</td>\n",
       "      <td>7496</td>\n",
       "      <td>277317</td>\n",
       "      <td>2.7%</td>\n",
       "    </tr>\n",
       "    <tr>\n",
       "      <th>14</th>\n",
       "      <td>Põlva county</td>\n",
       "      <td>4838</td>\n",
       "      <td>182337</td>\n",
       "      <td>2.7%</td>\n",
       "    </tr>\n",
       "    <tr>\n",
       "      <th>2</th>\n",
       "      <td>Hiiu county</td>\n",
       "      <td>2734</td>\n",
       "      <td>103258</td>\n",
       "      <td>2.6%</td>\n",
       "    </tr>\n",
       "    <tr>\n",
       "      <th>7</th>\n",
       "      <td>Valga county</td>\n",
       "      <td>4818</td>\n",
       "      <td>191704</td>\n",
       "      <td>2.5%</td>\n",
       "    </tr>\n",
       "    <tr>\n",
       "      <th>12</th>\n",
       "      <td>Pärnu county</td>\n",
       "      <td>13039</td>\n",
       "      <td>541910</td>\n",
       "      <td>2.4%</td>\n",
       "    </tr>\n",
       "    <tr>\n",
       "      <th>1</th>\n",
       "      <td>Viljandi county</td>\n",
       "      <td>7711</td>\n",
       "      <td>342010</td>\n",
       "      <td>2.3%</td>\n",
       "    </tr>\n",
       "    <tr>\n",
       "      <th>11</th>\n",
       "      <td>Jõgeva county</td>\n",
       "      <td>5849</td>\n",
       "      <td>254494</td>\n",
       "      <td>2.3%</td>\n",
       "    </tr>\n",
       "    <tr>\n",
       "      <th>9</th>\n",
       "      <td>Järva county</td>\n",
       "      <td>5671</td>\n",
       "      <td>267412</td>\n",
       "      <td>2.1%</td>\n",
       "    </tr>\n",
       "  </tbody>\n",
       "</table>\n",
       "</div>"
      ],
      "text/plain": [
       "                 name  S3_suitable_area_ha  county_area_ha  \\\n",
       "3        Harju county                22299          432784   \n",
       "6     Ida-Viru county                11357          297177   \n",
       "8        Tartu county                12398          334947   \n",
       "13  Lääne-Viru county                13600          369538   \n",
       "4        Lääne county                 5568          181575   \n",
       "5        Rapla county                 8131          276423   \n",
       "0        Saare county                 8181          293832   \n",
       "10        Võru county                 7496          277317   \n",
       "14       Põlva county                 4838          182337   \n",
       "2         Hiiu county                 2734          103258   \n",
       "7        Valga county                 4818          191704   \n",
       "12       Pärnu county                13039          541910   \n",
       "1     Viljandi county                 7711          342010   \n",
       "11      Jõgeva county                 5849          254494   \n",
       "9        Järva county                 5671          267412   \n",
       "\n",
       "   percent_of_county_S3_str  \n",
       "3                      5.2%  \n",
       "6                      3.8%  \n",
       "8                      3.7%  \n",
       "13                     3.7%  \n",
       "4                      3.1%  \n",
       "5                      2.9%  \n",
       "0                      2.8%  \n",
       "10                     2.7%  \n",
       "14                     2.7%  \n",
       "2                      2.6%  \n",
       "7                      2.5%  \n",
       "12                     2.4%  \n",
       "1                      2.3%  \n",
       "11                     2.3%  \n",
       "9                      2.1%  "
      ]
     },
     "execution_count": 27,
     "metadata": {},
     "output_type": "execute_result"
    }
   ],
   "source": [
    "counties_nice_S3 = S3_counties.sort_values(by='percent_of_county_S3', ascending=False)[['name', 'S3_suitable_area_ha', 'county_area_ha', 'percent_of_county_S3_str']]\n",
    "counties_nice_S3"
   ]
  },
  {
   "cell_type": "markdown",
   "id": "56a0c769",
   "metadata": {},
   "source": [
    "# Historical forest\n",
    "[[Click here to turn back to the table of contents]](#Table-of-contents)"
   ]
  },
  {
   "cell_type": "markdown",
   "id": "2aa8cc97",
   "metadata": {},
   "source": [
    "Loading suitable lands"
   ]
  },
  {
   "cell_type": "code",
   "execution_count": 2,
   "id": "20bdf86f",
   "metadata": {},
   "outputs": [],
   "source": [
    "file_name_historical_forest = '../../Thesis_2024_updates/Subtraction_Results/Step19_no_historical.tif'"
   ]
  },
  {
   "cell_type": "code",
   "execution_count": 9,
   "id": "28ffeaca",
   "metadata": {},
   "outputs": [],
   "source": [
    "# Open the raster layer\n",
    "with rasterio.open(file_name_historical_forest) as src:\n",
    "    affine = src.transform\n",
    "    array = src.read(1)  # Read the first band\n",
    "    \n",
    "    # Define the statistic to calculate: count of pixels with value 1\n",
    "    stats = zonal_stats(counties, array, affine=affine, stats=['count'], \n",
    "                        categorical=True, nodata=src.nodata)\n",
    "\n",
    "    # Adding the results to the counties GeoDataFrame\n",
    "    counties['num_pixels_HF'] = [s.get(1, 0) for s in stats]  # Get count of 1's, default to 0 if no 1's\n",
    "    counties['HF_suitable_area_ha'] = counties['num_pixels_HF'].apply(lambda x: round((x * 16)/10000))"
   ]
  },
  {
   "cell_type": "code",
   "execution_count": 10,
   "id": "03bb5d0c",
   "metadata": {},
   "outputs": [],
   "source": [
    "counties['percent_of_county_HF'] = round((counties['HF_suitable_area_ha']/counties['county_area_ha']) * 100, 1)\n",
    "# counties['percent_of_county_HF_str'] = counties['percent_of_county_HF'].apply(lambda x: str(x) + '%')"
   ]
  },
  {
   "cell_type": "code",
   "execution_count": 11,
   "id": "109e5aea",
   "metadata": {},
   "outputs": [
    {
     "data": {
      "text/html": [
       "<div>\n",
       "<style scoped>\n",
       "    .dataframe tbody tr th:only-of-type {\n",
       "        vertical-align: middle;\n",
       "    }\n",
       "\n",
       "    .dataframe tbody tr th {\n",
       "        vertical-align: top;\n",
       "    }\n",
       "\n",
       "    .dataframe thead th {\n",
       "        text-align: right;\n",
       "    }\n",
       "</style>\n",
       "<table border=\"1\" class=\"dataframe\">\n",
       "  <thead>\n",
       "    <tr style=\"text-align: right;\">\n",
       "      <th></th>\n",
       "      <th>name</th>\n",
       "      <th>county_area_ha</th>\n",
       "      <th>HF_suitable_area_ha</th>\n",
       "      <th>percent_of_county_HF</th>\n",
       "      <th>geometry</th>\n",
       "    </tr>\n",
       "  </thead>\n",
       "  <tbody>\n",
       "    <tr>\n",
       "      <th>0</th>\n",
       "      <td>Saare county</td>\n",
       "      <td>293832</td>\n",
       "      <td>78171</td>\n",
       "      <td>26.6</td>\n",
       "      <td>MULTIPOLYGON (((455191.283 6404986.597, 455187...</td>\n",
       "    </tr>\n",
       "    <tr>\n",
       "      <th>1</th>\n",
       "      <td>Viljandi county</td>\n",
       "      <td>342010</td>\n",
       "      <td>106312</td>\n",
       "      <td>31.1</td>\n",
       "      <td>MULTIPOLYGON (((621049.180 6453125.120, 621052...</td>\n",
       "    </tr>\n",
       "    <tr>\n",
       "      <th>2</th>\n",
       "      <td>Hiiu county</td>\n",
       "      <td>103258</td>\n",
       "      <td>24071</td>\n",
       "      <td>23.3</td>\n",
       "      <td>MULTIPOLYGON (((418048.719 6506294.706, 418045...</td>\n",
       "    </tr>\n",
       "    <tr>\n",
       "      <th>3</th>\n",
       "      <td>Harju county</td>\n",
       "      <td>432784</td>\n",
       "      <td>121949</td>\n",
       "      <td>28.2</td>\n",
       "      <td>MULTIPOLYGON (((504775.973 6570562.880, 504787...</td>\n",
       "    </tr>\n",
       "    <tr>\n",
       "      <th>4</th>\n",
       "      <td>Lääne county</td>\n",
       "      <td>181575</td>\n",
       "      <td>59353</td>\n",
       "      <td>32.7</td>\n",
       "      <td>MULTIPOLYGON (((460628.287 6512871.566, 460630...</td>\n",
       "    </tr>\n",
       "    <tr>\n",
       "      <th>5</th>\n",
       "      <td>Rapla county</td>\n",
       "      <td>276423</td>\n",
       "      <td>91371</td>\n",
       "      <td>33.1</td>\n",
       "      <td>POLYGON ((504136.450 6536681.570, 504465.710 6...</td>\n",
       "    </tr>\n",
       "    <tr>\n",
       "      <th>6</th>\n",
       "      <td>Ida-Viru county</td>\n",
       "      <td>297177</td>\n",
       "      <td>63305</td>\n",
       "      <td>21.3</td>\n",
       "      <td>MULTIPOLYGON (((714923.260 6544236.101, 714913...</td>\n",
       "    </tr>\n",
       "    <tr>\n",
       "      <th>7</th>\n",
       "      <td>Valga county</td>\n",
       "      <td>191704</td>\n",
       "      <td>49901</td>\n",
       "      <td>26.0</td>\n",
       "      <td>MULTIPOLYGON (((622138.806 6444214.901, 622139...</td>\n",
       "    </tr>\n",
       "    <tr>\n",
       "      <th>8</th>\n",
       "      <td>Tartu county</td>\n",
       "      <td>334947</td>\n",
       "      <td>122161</td>\n",
       "      <td>36.5</td>\n",
       "      <td>MULTIPOLYGON (((705484.908 6476994.745, 705479...</td>\n",
       "    </tr>\n",
       "    <tr>\n",
       "      <th>9</th>\n",
       "      <td>Järva county</td>\n",
       "      <td>267412</td>\n",
       "      <td>96116</td>\n",
       "      <td>35.9</td>\n",
       "      <td>POLYGON ((560449.290 6519256.000, 560687.830 6...</td>\n",
       "    </tr>\n",
       "    <tr>\n",
       "      <th>10</th>\n",
       "      <td>Võru county</td>\n",
       "      <td>277317</td>\n",
       "      <td>72429</td>\n",
       "      <td>26.1</td>\n",
       "      <td>MULTIPOLYGON (((714349.330 6430286.030, 714356...</td>\n",
       "    </tr>\n",
       "    <tr>\n",
       "      <th>11</th>\n",
       "      <td>Jõgeva county</td>\n",
       "      <td>254494</td>\n",
       "      <td>79725</td>\n",
       "      <td>31.3</td>\n",
       "      <td>POLYGON ((680751.940 6541260.098, 680750.298 6...</td>\n",
       "    </tr>\n",
       "    <tr>\n",
       "      <th>12</th>\n",
       "      <td>Pärnu county</td>\n",
       "      <td>541910</td>\n",
       "      <td>162616</td>\n",
       "      <td>30.0</td>\n",
       "      <td>MULTIPOLYGON (((521030.708 6415090.504, 521025...</td>\n",
       "    </tr>\n",
       "    <tr>\n",
       "      <th>13</th>\n",
       "      <td>Lääne-Viru county</td>\n",
       "      <td>369538</td>\n",
       "      <td>135522</td>\n",
       "      <td>36.7</td>\n",
       "      <td>MULTIPOLYGON (((657694.057 6598663.354, 657693...</td>\n",
       "    </tr>\n",
       "    <tr>\n",
       "      <th>14</th>\n",
       "      <td>Põlva county</td>\n",
       "      <td>182337</td>\n",
       "      <td>57515</td>\n",
       "      <td>31.5</td>\n",
       "      <td>MULTIPOLYGON (((703347.345 6461975.893, 703344...</td>\n",
       "    </tr>\n",
       "  </tbody>\n",
       "</table>\n",
       "</div>"
      ],
      "text/plain": [
       "                 name  county_area_ha  HF_suitable_area_ha  \\\n",
       "0        Saare county          293832                78171   \n",
       "1     Viljandi county          342010               106312   \n",
       "2         Hiiu county          103258                24071   \n",
       "3        Harju county          432784               121949   \n",
       "4        Lääne county          181575                59353   \n",
       "5        Rapla county          276423                91371   \n",
       "6     Ida-Viru county          297177                63305   \n",
       "7        Valga county          191704                49901   \n",
       "8        Tartu county          334947               122161   \n",
       "9        Järva county          267412                96116   \n",
       "10        Võru county          277317                72429   \n",
       "11      Jõgeva county          254494                79725   \n",
       "12       Pärnu county          541910               162616   \n",
       "13  Lääne-Viru county          369538               135522   \n",
       "14       Põlva county          182337                57515   \n",
       "\n",
       "    percent_of_county_HF                                           geometry  \n",
       "0                   26.6  MULTIPOLYGON (((455191.283 6404986.597, 455187...  \n",
       "1                   31.1  MULTIPOLYGON (((621049.180 6453125.120, 621052...  \n",
       "2                   23.3  MULTIPOLYGON (((418048.719 6506294.706, 418045...  \n",
       "3                   28.2  MULTIPOLYGON (((504775.973 6570562.880, 504787...  \n",
       "4                   32.7  MULTIPOLYGON (((460628.287 6512871.566, 460630...  \n",
       "5                   33.1  POLYGON ((504136.450 6536681.570, 504465.710 6...  \n",
       "6                   21.3  MULTIPOLYGON (((714923.260 6544236.101, 714913...  \n",
       "7                   26.0  MULTIPOLYGON (((622138.806 6444214.901, 622139...  \n",
       "8                   36.5  MULTIPOLYGON (((705484.908 6476994.745, 705479...  \n",
       "9                   35.9  POLYGON ((560449.290 6519256.000, 560687.830 6...  \n",
       "10                  26.1  MULTIPOLYGON (((714349.330 6430286.030, 714356...  \n",
       "11                  31.3  POLYGON ((680751.940 6541260.098, 680750.298 6...  \n",
       "12                  30.0  MULTIPOLYGON (((521030.708 6415090.504, 521025...  \n",
       "13                  36.7  MULTIPOLYGON (((657694.057 6598663.354, 657693...  \n",
       "14                  31.5  MULTIPOLYGON (((703347.345 6461975.893, 703344...  "
      ]
     },
     "execution_count": 11,
     "metadata": {},
     "output_type": "execute_result"
    }
   ],
   "source": [
    "HF_counties = counties[['name', 'county_area_ha', 'HF_suitable_area_ha', 'percent_of_county_HF', 'geometry']]\n",
    "HF_counties"
   ]
  },
  {
   "cell_type": "code",
   "execution_count": 13,
   "id": "f3cd297a",
   "metadata": {},
   "outputs": [
    {
     "name": "stderr",
     "output_type": "stream",
     "text": [
      "/Users/rav/dev/virtual_env/lib/python3.9/site-packages/geopandas/geodataframe.py:1443: SettingWithCopyWarning: \n",
      "A value is trying to be set on a copy of a slice from a DataFrame.\n",
      "Try using .loc[row_indexer,col_indexer] = value instead\n",
      "\n",
      "See the caveats in the documentation: https://pandas.pydata.org/pandas-docs/stable/user_guide/indexing.html#returning-a-view-versus-a-copy\n",
      "  super().__setitem__(key, value)\n"
     ]
    }
   ],
   "source": [
    "HF_counties['Unsuitable_area_ha'] = HF_counties['county_area_ha'] - HF_counties['HF_suitable_area_ha']"
   ]
  },
  {
   "cell_type": "code",
   "execution_count": 14,
   "id": "3e9b743f",
   "metadata": {},
   "outputs": [
    {
     "data": {
      "text/plain": [
       "3026201"
      ]
     },
     "execution_count": 14,
     "metadata": {},
     "output_type": "execute_result"
    }
   ],
   "source": [
    "HF_counties.Unsuitable_area_ha.sum()"
   ]
  },
  {
   "cell_type": "code",
   "execution_count": 15,
   "id": "978af514",
   "metadata": {},
   "outputs": [
    {
     "data": {
      "text/plain": [
       "0.6962036644659257"
      ]
     },
     "execution_count": 15,
     "metadata": {},
     "output_type": "execute_result"
    }
   ],
   "source": [
    "3026201/4346718"
   ]
  },
  {
   "cell_type": "code",
   "execution_count": null,
   "id": "d8deb955",
   "metadata": {},
   "outputs": [],
   "source": []
  }
 ],
 "metadata": {
  "kernelspec": {
   "display_name": "Python 3 (ipykernel)",
   "language": "python",
   "name": "python3"
  },
  "language_info": {
   "codemirror_mode": {
    "name": "ipython",
    "version": 3
   },
   "file_extension": ".py",
   "mimetype": "text/x-python",
   "name": "python",
   "nbconvert_exporter": "python",
   "pygments_lexer": "ipython3",
   "version": "3.9.6"
  }
 },
 "nbformat": 4,
 "nbformat_minor": 5
}
