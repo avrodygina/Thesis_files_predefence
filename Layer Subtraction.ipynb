{
 "cells": [
  {
   "cell_type": "markdown",
   "id": "2a96aa51",
   "metadata": {},
   "source": [
    "# Subtracting layers from the base layer"
   ]
  },
  {
   "cell_type": "code",
   "execution_count": 1,
   "id": "6811e96b",
   "metadata": {},
   "outputs": [],
   "source": [
    "import os\n",
    "import rasterio\n",
    "from rasterio.windows import Window, from_bounds, bounds\n",
    "import numpy as np\n",
    "from tqdm import tqdm\n",
    "from rasterio.enums import Resampling\n"
   ]
  },
  {
   "cell_type": "markdown",
   "id": "f8274c02",
   "metadata": {},
   "source": [
    "# Table of contents\n",
    "#### [1. Defining paths to the TIFF-files we want to subtract](#Defining-paths-to-the-TIFF-files-we-want-to-subtract)\n",
    "\n",
    "#### [2. Defining subtraction function](#Defining-subtraction-function)\n",
    "\n",
    "#### [3. Running the code: Scenario 1](#Running-the-code:-Scenario-1)\n",
    "\n",
    "\n",
    "1. [Historical forest](#1.-Historical-forest) \n",
    "\n",
    "2. [Current forest](#2.-Current-forest)\n",
    "\n",
    "3. [Wetlands](#3.-Wetlands) \n",
    "\n",
    "4. [Organic soils](#4.-Organic-soils) \n",
    "\n",
    "5. [Agricultural parcels](#5.-Agricultural-parcels) \n",
    "\n",
    "6. [Water bodies and rivers combined](#6.-Water-bodies-and-rivers-combined) \n",
    "\n",
    "7. [Transport infrastructure](#7.-Transport-infrastructure) \n",
    "\n",
    "8. [Buildings facilities combined](#8.-Buildings-facilities-combined) \n",
    "\n",
    "9. [Electric lines](#9.-Electric-lines) \n",
    "\n",
    "#### [4. Calculating total area of suitable lands: Scenario 1](#Calculating-total-area-of-suitable-lands)\n",
    "\n",
    "#### [5. Running the code: Scenario 2](#Running-the-code:-Scenario-2)\n",
    "\n",
    "#### [6. Running the code: Scenario 3](#Running-the-code:-Scenario-3)\n"
   ]
  },
  {
   "cell_type": "markdown",
   "id": "6639fe16",
   "metadata": {},
   "source": [
    "# Defining paths to the TIFF-files we want to subtract\n",
    "[[Click here to turn back to the table of contents]](#Table-of-contents)"
   ]
  },
  {
   "cell_type": "code",
   "execution_count": 2,
   "id": "10066c69",
   "metadata": {},
   "outputs": [],
   "source": [
    "#vector paths (input)\n",
    "path_scenario_1_v = '../../Thesis_2024_updates/Vector_Data/Scenario_1/'\n",
    "path_scenario_2_v = '../../Thesis_2024_updates/Vector_Data/Scenario_2/'\n",
    "path_scenario_3_v = '../../Thesis_2024_updates/Vector_Data/Scenario_3/'\n",
    "\n",
    "#raster paths (output)\n",
    "path_scenario_1_r = '../../Thesis_2024_updates/Raster_Data/Scenario_1/'\n",
    "path_scenario_2_r = '../../Thesis_2024_updates/Raster_Data/Scenario_2/'\n",
    "path_scenario_3_r = '../../Thesis_2024_updates/Raster_Data/Scenario_3/'\n",
    "\n",
    "\n",
    "## Scenario 1\n",
    "#base layer (Estonia)\n",
    "file_name_whole_estonia_r = 'whole_estonia/Estonia_rasterized_0_1.tif'\n",
    "raster_base_layer = os.path.join(path_scenario_1_r, file_name_whole_estonia_r)\n",
    "\n",
    "#forest current combined\n",
    "file_name_current_forest_combined_r = 'forest_current/Current_forest_rasterized_python_combined_1.tif'\n",
    "current_forest_combined_r = os.path.join(path_scenario_1_r, file_name_current_forest_combined_r)\n",
    "\n",
    "#wetlands\n",
    "file_name_wetlands_r = 'wetlands/Wetlands_rasterized_python.tif'\n",
    "wetlands_r = os.path.join(path_scenario_1_r, file_name_wetlands_r)\n",
    "\n",
    "#organic soils\n",
    "file_name_organic_soils_r = 'organic_soils/Organic_soils_rasterized_python.tif'\n",
    "organic_soils_r = os.path.join(path_scenario_1_r, file_name_organic_soils_r)\n",
    "\n",
    "#agricultural parcels\n",
    "file_name_agricultural_parcels_r = 'agricultural_parcels/Agricultural_parcels_rasterized_python.tif'\n",
    "agricultural_parcels_r = os.path.join(path_scenario_1_r, file_name_agricultural_parcels_r)\n",
    "\n",
    "#water bodies and rivers combined\n",
    "file_name_water_combined_r = 'water_bodies_and_rivers/Water_rasterized_python_combined.tif'\n",
    "water_combined_r = os.path.join(path_scenario_1_r, file_name_water_combined_r)\n",
    "\n",
    "#transport infrastructure\n",
    "file_name_transport_infrastructure_r = 'transport_infrastructure/Transport_rasterized_python.tif'\n",
    "transport_infrastructure_r = os.path.join(path_scenario_1_r, file_name_transport_infrastructure_r)\n",
    "\n",
    "#buildings facilities combined\n",
    "file_name_buildings_facilities_combined_r = 'built_structures_and_associated_places/Buildings_facilities_combined.tif'\n",
    "buildings_facilities_combined_r = os.path.join(path_scenario_1_r, file_name_buildings_facilities_combined_r)\n",
    "\n",
    "#electric_lines\n",
    "file_name_electric_lines_r = 'electric_lines/Electric_lines_rasterized_python.tif'\n",
    "electric_lines_r = os.path.join(path_scenario_1_r, file_name_electric_lines_r)\n",
    "\n",
    "#historical forest\n",
    "CHM_2013_kevad = os.path.join(path_scenario_1_r, 'forest_historical/CHM_2013_kevad_filtered_1.3m_int16.tif')\n",
    "CHM_2013_suvi = os.path.join(path_scenario_1_r, 'forest_historical/CHM_2013_suvi_filtered_1.3m_int16.tif')\n",
    "\n",
    "CHM_2014_kevad = os.path.join(path_scenario_1_r, 'forest_historical/CHM_2014_kevad_filtered_1.3m_int16.tif')\n",
    "\n",
    "CHM_2015_kevad = os.path.join(path_scenario_1_r, 'forest_historical/CHM_2015_kevad_filtered_1.3m_int16.tif')\n",
    "CHM_2015_suvi = os.path.join(path_scenario_1_r, 'forest_historical/CHM_2015_suvi_filtered_1.3m_int16.tif')\n",
    "\n",
    "CHM_2017_kevad = os.path.join(path_scenario_1_r, 'forest_historical/CHM_2017_kevad_filtered_1.3m_int16.tif')\n",
    "CHM_2017_suvi = os.path.join(path_scenario_1_r, 'forest_historical/CHM_2017_suvi_filtered_1.3m_int16.tif')\n",
    "\n",
    "CHM_2018_kevad = os.path.join(path_scenario_1_r, 'forest_historical/CHM_2018_kevad_filtered_1.3m_int16.tif')\n",
    "CHM_2018_suvi = os.path.join(path_scenario_1_r, 'forest_historical/CHM_2018_suvi_filtered_1.3m_int16.tif')\n",
    "\n",
    "CHM_2019_kevad = os.path.join(path_scenario_1_r, 'forest_historical/CHM_2019_kevad_filtered_1.3m_int16.tif')\n",
    "CHM_2019_suvi = os.path.join(path_scenario_1_r, 'forest_historical/CHM_2019_suvi_filtered_1.3m_int16.tif')\n",
    "\n",
    "CHM_2020_kevad = os.path.join(path_scenario_1_r, 'forest_historical/CHM_2020_kevad_filtered_1.3m_int16.tif')\n",
    "CHM_2020_suvi = os.path.join(path_scenario_1_r, 'forest_historical/CHM_2020_suvi_filtered_1.3m_int16.tif')\n",
    "\n",
    "CHM_2021_kevad = os.path.join(path_scenario_1_r, 'forest_historical/CHM_2021_kevad_filtered_1.3m_int16.tif')\n",
    "CHM_2021_suvi = os.path.join(path_scenario_1_r, 'forest_historical/CHM_2021_suvi_filtered_1.3m_int16.tif')\n",
    "\n",
    "CHM_2022_kevad = os.path.join(path_scenario_1_r, 'forest_historical/CHM_2022_kevad_filtered_1.3m_int16.tif')\n",
    "CHM_2022_suvi = os.path.join(path_scenario_1_r, 'forest_historical/CHM_2022_suvi_filtered_1.3m_int16.tif')\n",
    "\n",
    "CHM_2023_kevad = os.path.join(path_scenario_1_r, 'forest_historical/CHM_2023_kevad_filtered_1.3m_int16.tif')\n",
    "CHM_2023_suvi = os.path.join(path_scenario_1_r, 'forest_historical/CHM_2023_suvi_filtered_1.3m_int16.tif')\n",
    "\n",
    "\n",
    "\n",
    "## Scenario 2\n",
    "\n",
    "\n",
    "\n",
    "## Scenario 3\n",
    "#semi-natural grasslands\n",
    "file_name_grasslands_r = 'seminatural_grasslands/Grasslands_rasterized_python.tif'\n",
    "grasslands_r = os.path.join(path_scenario_3_r, file_name_grasslands_r)"
   ]
  },
  {
   "cell_type": "markdown",
   "id": "639b87ed",
   "metadata": {},
   "source": [
    "# Defining subtraction function\n",
    "[[Click here to turn back to the table of contents]](#Table-of-contents)"
   ]
  },
  {
   "cell_type": "code",
   "execution_count": 3,
   "id": "d4061563",
   "metadata": {},
   "outputs": [],
   "source": [
    "def subtract_tif_from_base(tif_base, tif_to_subtract, tif_output, tile_size=16384, \n",
    "                           need_to_resample=False):\n",
    "    \n",
    "    # Open the base raster from which to subtract and read its profile and nodata value\n",
    "    with rasterio.open(tif_base) as src:\n",
    "        profile = src.profile\n",
    "        nodata1 = src.meta['nodata']\n",
    "    \n",
    "    # Open the raster to be subtracted and read its nodata value\n",
    "    with rasterio.open(tif_to_subtract) as src:\n",
    "        nodata2 = src.meta['nodata']\n",
    "        \n",
    "    # Open both raster datasets for reading data\n",
    "    tif_base_src = rasterio.open(tif_base)\n",
    "    tif_to_subtract_src = rasterio.open(tif_to_subtract)\n",
    "    \n",
    "    # Open a new raster file for writing the result of the subtraction\n",
    "    with rasterio.open(tif_output, 'w', **profile) as target_src:\n",
    "        with tqdm(total=tif_base_src.shape[0]*tif_base_src.shape[1]//tile_size//tile_size) as pbar:\n",
    "\n",
    "            for x in range(0, tif_base_src.shape[1], tile_size):\n",
    "                for y in range(0, tif_base_src.shape[0], tile_size):\n",
    "                    w1 = Window(x, y, min(tile_size, tif_base_src.shape[1]-x), min(tile_size, tif_base_src.shape[0]-y))\n",
    "                    img1 = tif_base_src.read(window=w1)\n",
    "\n",
    "                    # Replace 'no data' with 0 for img1\n",
    "                    if nodata1 is not None:\n",
    "                        img1[img1 == nodata1] = 0\n",
    "                        img1[img1 == 255] = 0\n",
    "\n",
    "                    # Calculate the bounds of the window and adjust it for the subtract raster\n",
    "                    bound = bounds(w1, tif_base_src.transform)\n",
    "                    w2 = from_bounds(*bound, transform=tif_to_subtract_src.transform)\n",
    "                    \n",
    "                    if need_to_resample is False:\n",
    "                        img2 = tif_to_subtract_src.read(window=w2, boundless=True)\n",
    "                    else:\n",
    "                        img2 = tif_to_subtract_src.read(window=w2, boundless=True, out_shape=img1.shape,\n",
    "                                                resampling=Resampling.nearest)\n",
    "\n",
    "                    # Replace 'no data' with 0 for img2\n",
    "                    if nodata2 is not None:\n",
    "                        img2[img2 == nodata2] = 0\n",
    "                        img2[img2 == 255] = 0\n",
    "\n",
    "                    # Perform subtraction\n",
    "                    res = (img1.astype(np.float32) > img2.astype(np.float32)).astype(np.uint8)\n",
    "                    target_src.write(res, window=w1)\n",
    "                    pbar.update()\n",
    "    "
   ]
  },
  {
   "cell_type": "markdown",
   "id": "a26fada6",
   "metadata": {},
   "source": [
    "# Running the code: Scenario 1\n",
    "[[Click here to turn back to the table of contents]](#Table-of-contents)"
   ]
  },
  {
   "cell_type": "code",
   "execution_count": 4,
   "id": "13027e77",
   "metadata": {},
   "outputs": [],
   "source": [
    "folder_for_subtraction_results = '../../Thesis_2024_updates/Subtraction_Results/'"
   ]
  },
  {
   "cell_type": "markdown",
   "id": "27f79a90",
   "metadata": {},
   "source": [
    "## 1. Historical forest\n",
    "[[Click here to turn back to the table of contents]](#Table-of-contents)"
   ]
  },
  {
   "cell_type": "markdown",
   "id": "2f96c839",
   "metadata": {},
   "source": [
    "### * Part 1: older data with resolution 10x10\n",
    "[[Click here to turn back to the table of contents]](#Table-of-contents)"
   ]
  },
  {
   "cell_type": "markdown",
   "id": "692c1d57",
   "metadata": {},
   "source": [
    "##### * CHM_2013_kevad"
   ]
  },
  {
   "cell_type": "code",
   "execution_count": 16,
   "id": "932009c3",
   "metadata": {},
   "outputs": [
    {
     "name": "stderr",
     "output_type": "stream",
     "text": [
      "24it [06:00, 15.03s/it]                                                         \n"
     ]
    }
   ],
   "source": [
    "tif_base = raster_base_layer\n",
    "tif_to_subtract = CHM_2013_kevad\n",
    "tif_output = os.path.join(folder_for_subtraction_results, 'Step1.tif')\n",
    "\n",
    "subtract_tif_from_base(tif_base, tif_to_subtract, tif_output, need_to_resample=True)"
   ]
  },
  {
   "cell_type": "markdown",
   "id": "ad022c68",
   "metadata": {},
   "source": [
    "##### * CHM_2013_suvi"
   ]
  },
  {
   "cell_type": "code",
   "execution_count": 18,
   "id": "1bf7f6b9",
   "metadata": {},
   "outputs": [
    {
     "name": "stderr",
     "output_type": "stream",
     "text": [
      "24it [05:04, 12.68s/it]                                                         \n"
     ]
    }
   ],
   "source": [
    "tif_base = os.path.join(folder_for_subtraction_results, 'Step1.tif')\n",
    "tif_to_subtract = CHM_2013_suvi\n",
    "tif_output = os.path.join(folder_for_subtraction_results, 'Step2.tif')\n",
    "\n",
    "subtract_tif_from_base(tif_base, tif_to_subtract, tif_output, need_to_resample=True)"
   ]
  },
  {
   "cell_type": "markdown",
   "id": "03fb3dc5",
   "metadata": {},
   "source": [
    "##### * CHM_2014_kevad"
   ]
  },
  {
   "cell_type": "code",
   "execution_count": 20,
   "id": "1f93686d",
   "metadata": {},
   "outputs": [
    {
     "name": "stderr",
     "output_type": "stream",
     "text": [
      "24it [05:02, 12.60s/it]                                                         \n"
     ]
    }
   ],
   "source": [
    "tif_base = os.path.join(folder_for_subtraction_results, 'Step2.tif')\n",
    "tif_to_subtract = CHM_2013_kevad\n",
    "tif_output = os.path.join(folder_for_subtraction_results, 'Step3.tif')\n",
    "\n",
    "subtract_tif_from_base(tif_base, tif_to_subtract, tif_output, need_to_resample=True)"
   ]
  },
  {
   "cell_type": "markdown",
   "id": "dc224164",
   "metadata": {},
   "source": [
    "##### * CHM_2015_kevad"
   ]
  },
  {
   "cell_type": "code",
   "execution_count": 22,
   "id": "2bb49ce6",
   "metadata": {},
   "outputs": [
    {
     "name": "stderr",
     "output_type": "stream",
     "text": [
      "24it [05:18, 13.26s/it]                                                         \n"
     ]
    }
   ],
   "source": [
    "tif_base = os.path.join(folder_for_subtraction_results, 'Step3.tif')\n",
    "tif_to_subtract = CHM_2015_kevad\n",
    "tif_output = os.path.join(folder_for_subtraction_results, 'Step4.tif')\n",
    "\n",
    "subtract_tif_from_base(tif_base, tif_to_subtract, tif_output, need_to_resample=True)"
   ]
  },
  {
   "cell_type": "markdown",
   "id": "30588dcb",
   "metadata": {},
   "source": [
    "##### * CHM_2015_suvi"
   ]
  },
  {
   "cell_type": "code",
   "execution_count": 23,
   "id": "a461fd2b",
   "metadata": {},
   "outputs": [
    {
     "name": "stderr",
     "output_type": "stream",
     "text": [
      "24it [05:22, 13.43s/it]                                                         \n"
     ]
    }
   ],
   "source": [
    "tif_base = os.path.join(folder_for_subtraction_results, 'Step4.tif')\n",
    "tif_to_subtract = CHM_2015_suvi\n",
    "tif_output = os.path.join(folder_for_subtraction_results, 'Step5.tif')\n",
    "\n",
    "subtract_tif_from_base(tif_base, tif_to_subtract, tif_output, need_to_resample=True)"
   ]
  },
  {
   "cell_type": "markdown",
   "id": "b6d0a533",
   "metadata": {},
   "source": [
    "##### * CHM_2017_kevad"
   ]
  },
  {
   "cell_type": "code",
   "execution_count": 24,
   "id": "5e907e2c",
   "metadata": {},
   "outputs": [
    {
     "name": "stderr",
     "output_type": "stream",
     "text": [
      "24it [05:32, 13.85s/it]                                                         \n"
     ]
    }
   ],
   "source": [
    "tif_base = os.path.join(folder_for_subtraction_results, 'Step5.tif')\n",
    "tif_to_subtract = CHM_2017_kevad\n",
    "tif_output = os.path.join(folder_for_subtraction_results, 'Step6.tif')\n",
    "\n",
    "subtract_tif_from_base(tif_base, tif_to_subtract, tif_output, need_to_resample=True)"
   ]
  },
  {
   "cell_type": "markdown",
   "id": "fa7ad62a",
   "metadata": {},
   "source": [
    "##### * CHM_2017_suvi"
   ]
  },
  {
   "cell_type": "code",
   "execution_count": 26,
   "id": "640fcd93",
   "metadata": {},
   "outputs": [
    {
     "name": "stderr",
     "output_type": "stream",
     "text": [
      "24it [05:20, 13.37s/it]                                                         \n"
     ]
    }
   ],
   "source": [
    "tif_base = os.path.join(folder_for_subtraction_results, 'Step6.tif')\n",
    "tif_to_subtract = CHM_2017_suvi\n",
    "tif_output = os.path.join(folder_for_subtraction_results, 'Step7.tif')\n",
    "\n",
    "subtract_tif_from_base(tif_base, tif_to_subtract, tif_output, need_to_resample=True)"
   ]
  },
  {
   "cell_type": "markdown",
   "id": "c8f46294",
   "metadata": {},
   "source": [
    "##### * CHM_2018_kevad"
   ]
  },
  {
   "cell_type": "code",
   "execution_count": 28,
   "id": "1f35360b",
   "metadata": {},
   "outputs": [
    {
     "name": "stderr",
     "output_type": "stream",
     "text": [
      "24it [05:21, 13.38s/it]                                                         \n"
     ]
    }
   ],
   "source": [
    "tif_base = os.path.join(folder_for_subtraction_results, 'Step7.tif')\n",
    "tif_to_subtract = CHM_2018_kevad\n",
    "tif_output = os.path.join(folder_for_subtraction_results, 'Step8.tif')\n",
    "\n",
    "subtract_tif_from_base(tif_base, tif_to_subtract, tif_output, need_to_resample=True)"
   ]
  },
  {
   "cell_type": "markdown",
   "id": "32c1f59c",
   "metadata": {},
   "source": [
    "##### * CHM_2018_suvi"
   ]
  },
  {
   "cell_type": "code",
   "execution_count": 29,
   "id": "9e27df46",
   "metadata": {},
   "outputs": [
    {
     "name": "stderr",
     "output_type": "stream",
     "text": [
      "24it [05:43, 14.30s/it]                                                         \n"
     ]
    }
   ],
   "source": [
    "tif_base = os.path.join(folder_for_subtraction_results, 'Step8.tif')\n",
    "tif_to_subtract = CHM_2018_suvi\n",
    "tif_output = os.path.join(folder_for_subtraction_results, 'Step9.tif')\n",
    "\n",
    "subtract_tif_from_base(tif_base, tif_to_subtract, tif_output, need_to_resample=True)"
   ]
  },
  {
   "cell_type": "markdown",
   "id": "a6a64367",
   "metadata": {},
   "source": [
    "##### * CHM_2019_kevad"
   ]
  },
  {
   "cell_type": "code",
   "execution_count": 30,
   "id": "6eae2a4f",
   "metadata": {},
   "outputs": [
    {
     "name": "stderr",
     "output_type": "stream",
     "text": [
      "24it [05:49, 14.56s/it]                                                         \n"
     ]
    }
   ],
   "source": [
    "tif_base = os.path.join(folder_for_subtraction_results, 'Step9.tif')\n",
    "tif_to_subtract = CHM_2019_kevad\n",
    "tif_output = os.path.join(folder_for_subtraction_results, 'Step10.tif')\n",
    "\n",
    "subtract_tif_from_base(tif_base, tif_to_subtract, tif_output)"
   ]
  },
  {
   "cell_type": "markdown",
   "id": "8dcdc6ed",
   "metadata": {},
   "source": [
    "##### * CHM_2019_suvi"
   ]
  },
  {
   "cell_type": "code",
   "execution_count": 31,
   "id": "09f630ac",
   "metadata": {},
   "outputs": [
    {
     "name": "stderr",
     "output_type": "stream",
     "text": [
      "24it [06:07, 15.31s/it]                                                         \n"
     ]
    }
   ],
   "source": [
    "tif_base = os.path.join(folder_for_subtraction_results, 'Step10.tif')\n",
    "tif_to_subtract = CHM_2019_suvi\n",
    "tif_output = os.path.join(folder_for_subtraction_results, 'Step11.tif')\n",
    "\n",
    "subtract_tif_from_base(tif_base, tif_to_subtract, tif_output)"
   ]
  },
  {
   "cell_type": "markdown",
   "id": "32b20af4",
   "metadata": {},
   "source": [
    "##### * CHM_2020_kevad"
   ]
  },
  {
   "cell_type": "code",
   "execution_count": 32,
   "id": "333b3c28",
   "metadata": {},
   "outputs": [
    {
     "name": "stderr",
     "output_type": "stream",
     "text": [
      "24it [06:32, 16.34s/it]                                                         \n"
     ]
    }
   ],
   "source": [
    "tif_base = os.path.join(folder_for_subtraction_results, 'Step11.tif')\n",
    "tif_to_subtract = CHM_2020_kevad\n",
    "tif_output = os.path.join(folder_for_subtraction_results, 'Step12.tif')\n",
    "\n",
    "subtract_tif_from_base(tif_base, tif_to_subtract, tif_output)"
   ]
  },
  {
   "cell_type": "markdown",
   "id": "9c38e2e1",
   "metadata": {},
   "source": [
    "##### * CHM_2020_suvi"
   ]
  },
  {
   "cell_type": "code",
   "execution_count": 33,
   "id": "bae706b3",
   "metadata": {},
   "outputs": [
    {
     "name": "stderr",
     "output_type": "stream",
     "text": [
      "24it [06:05, 15.23s/it]                                                         \n"
     ]
    }
   ],
   "source": [
    "tif_base = os.path.join(folder_for_subtraction_results, 'Step12.tif')\n",
    "tif_to_subtract = CHM_2020_suvi\n",
    "tif_output = os.path.join(folder_for_subtraction_results, 'Step13.tif')\n",
    "\n",
    "subtract_tif_from_base(tif_base, tif_to_subtract, tif_output)"
   ]
  },
  {
   "cell_type": "markdown",
   "id": "5578e9f6",
   "metadata": {},
   "source": [
    "##### * CHM_2021_kevad"
   ]
  },
  {
   "cell_type": "code",
   "execution_count": 34,
   "id": "b0ec4a11",
   "metadata": {},
   "outputs": [
    {
     "name": "stderr",
     "output_type": "stream",
     "text": [
      "24it [06:15, 15.66s/it]                                                         \n"
     ]
    }
   ],
   "source": [
    "tif_base = os.path.join(folder_for_subtraction_results, 'Step13.tif')\n",
    "tif_to_subtract = CHM_2021_kevad\n",
    "tif_output = os.path.join(folder_for_subtraction_results, 'Step14.tif')\n",
    "\n",
    "subtract_tif_from_base(tif_base, tif_to_subtract, tif_output)"
   ]
  },
  {
   "cell_type": "markdown",
   "id": "71805a97",
   "metadata": {},
   "source": [
    "##### * CHM_2021_suvi"
   ]
  },
  {
   "cell_type": "code",
   "execution_count": 35,
   "id": "45133d96",
   "metadata": {},
   "outputs": [
    {
     "name": "stderr",
     "output_type": "stream",
     "text": [
      "24it [06:03, 15.15s/it]                                                         \n"
     ]
    }
   ],
   "source": [
    "tif_base = os.path.join(folder_for_subtraction_results, 'Step14.tif')\n",
    "tif_to_subtract = CHM_2021_suvi\n",
    "tif_output = os.path.join(folder_for_subtraction_results, 'Step15.tif')\n",
    "\n",
    "subtract_tif_from_base(tif_base, tif_to_subtract, tif_output)"
   ]
  },
  {
   "cell_type": "markdown",
   "id": "42375773",
   "metadata": {},
   "source": [
    "##### * CHM_2022_kevad"
   ]
  },
  {
   "cell_type": "code",
   "execution_count": 36,
   "id": "42f3e636",
   "metadata": {},
   "outputs": [
    {
     "name": "stderr",
     "output_type": "stream",
     "text": [
      "24it [06:08, 15.35s/it]                                                         \n"
     ]
    }
   ],
   "source": [
    "tif_base = os.path.join(folder_for_subtraction_results, 'Step15.tif')\n",
    "tif_to_subtract = CHM_2022_kevad\n",
    "tif_output = os.path.join(folder_for_subtraction_results, 'Step16.tif')\n",
    "\n",
    "subtract_tif_from_base(tif_base, tif_to_subtract, tif_output)"
   ]
  },
  {
   "cell_type": "markdown",
   "id": "8f73cfd3",
   "metadata": {},
   "source": [
    "##### * CHM_2022_suvi"
   ]
  },
  {
   "cell_type": "code",
   "execution_count": 37,
   "id": "2c158158",
   "metadata": {},
   "outputs": [
    {
     "name": "stderr",
     "output_type": "stream",
     "text": [
      "24it [06:14, 15.60s/it]                                                         \n"
     ]
    }
   ],
   "source": [
    "tif_base = os.path.join(folder_for_subtraction_results, 'Step16.tif')\n",
    "tif_to_subtract = CHM_2022_suvi\n",
    "tif_output = os.path.join(folder_for_subtraction_results, 'Step17.tif')\n",
    "\n",
    "subtract_tif_from_base(tif_base, tif_to_subtract, tif_output)"
   ]
  },
  {
   "cell_type": "markdown",
   "id": "58fdec1a",
   "metadata": {},
   "source": [
    "##### * CHM_2023_suvi"
   ]
  },
  {
   "cell_type": "code",
   "execution_count": 52,
   "id": "757e2301",
   "metadata": {},
   "outputs": [
    {
     "name": "stderr",
     "output_type": "stream",
     "text": [
      "24it [06:38, 16.61s/it]                                                         \n"
     ]
    }
   ],
   "source": [
    "tif_base = os.path.join(folder_for_subtraction_results, 'Step17.tif')\n",
    "tif_to_subtract = CHM_2023_suvi\n",
    "tif_output = os.path.join(folder_for_subtraction_results, 'Step18.tif')\n",
    "\n",
    "subtract_tif_from_base(tif_base, tif_to_subtract, tif_output)"
   ]
  },
  {
   "cell_type": "markdown",
   "id": "5d496747",
   "metadata": {},
   "source": [
    "##### * CHM_2023_kevad"
   ]
  },
  {
   "cell_type": "code",
   "execution_count": 53,
   "id": "aa647fd8",
   "metadata": {},
   "outputs": [
    {
     "name": "stderr",
     "output_type": "stream",
     "text": [
      "24it [06:00, 15.03s/it]                                                         \n"
     ]
    }
   ],
   "source": [
    "tif_base = os.path.join(folder_for_subtraction_results, 'Step18.tif')\n",
    "tif_to_subtract = CHM_2023_kevad\n",
    "tif_output = os.path.join(folder_for_subtraction_results, 'Step19_no_historical.tif')\n",
    "\n",
    "subtract_tif_from_base(tif_base, tif_to_subtract, tif_output)"
   ]
  },
  {
   "cell_type": "markdown",
   "id": "707f7c7a",
   "metadata": {},
   "source": [
    "## 2. Current forest\n",
    "[[Click here to turn back to the table of contents]](#Table-of-contents)"
   ]
  },
  {
   "cell_type": "code",
   "execution_count": 54,
   "id": "0c7e3c74",
   "metadata": {},
   "outputs": [
    {
     "name": "stderr",
     "output_type": "stream",
     "text": [
      "24it [06:28, 16.20s/it]                                                         \n"
     ]
    }
   ],
   "source": [
    "tif_base = os.path.join(folder_for_subtraction_results, 'Step19_no_historical.tif')\n",
    "tif_to_subtract = current_forest_combined_r\n",
    "tif_output = os.path.join(folder_for_subtraction_results, 'Step20_no_current_forest.tif')\n",
    "\n",
    "subtract_tif_from_base(tif_base, tif_to_subtract, tif_output)"
   ]
  },
  {
   "cell_type": "markdown",
   "id": "f34c283d",
   "metadata": {},
   "source": [
    "## 3. Wetlands\n",
    "[[Click here to turn back to the table of contents]](#Table-of-contents)"
   ]
  },
  {
   "cell_type": "code",
   "execution_count": 55,
   "id": "43537171",
   "metadata": {},
   "outputs": [
    {
     "name": "stderr",
     "output_type": "stream",
     "text": [
      "24it [06:28, 16.18s/it]                                                         \n"
     ]
    }
   ],
   "source": [
    "tif_base = os.path.join(folder_for_subtraction_results, 'Step20_no_current_forest.tif')\n",
    "tif_to_subtract = wetlands_r\n",
    "tif_output = os.path.join(folder_for_subtraction_results, 'Step21_no_wetlands.tif')\n",
    "\n",
    "subtract_tif_from_base(tif_base, tif_to_subtract, tif_output)"
   ]
  },
  {
   "cell_type": "markdown",
   "id": "01c0f7fb",
   "metadata": {},
   "source": [
    "## 4. Organic soils\n",
    "[[Click here to turn back to the table of contents]](#Table-of-contents)"
   ]
  },
  {
   "cell_type": "code",
   "execution_count": 56,
   "id": "e09b7109",
   "metadata": {},
   "outputs": [
    {
     "name": "stderr",
     "output_type": "stream",
     "text": [
      "24it [06:13, 15.55s/it]                                                         \n"
     ]
    }
   ],
   "source": [
    "tif_base = os.path.join(folder_for_subtraction_results, 'Step21_no_wetlands.tif')\n",
    "tif_to_subtract = organic_soils_r\n",
    "tif_output = os.path.join(folder_for_subtraction_results, 'Step22_no_organic_soils.tif')\n",
    "\n",
    "subtract_tif_from_base(tif_base, tif_to_subtract, tif_output)"
   ]
  },
  {
   "cell_type": "markdown",
   "id": "91db8051",
   "metadata": {},
   "source": [
    "## 5. Agricultural parcels\n",
    "[[Click here to turn back to the table of contents]](#Table-of-contents)"
   ]
  },
  {
   "cell_type": "code",
   "execution_count": 57,
   "id": "78af47d8",
   "metadata": {},
   "outputs": [
    {
     "name": "stderr",
     "output_type": "stream",
     "text": [
      "24it [06:02, 15.10s/it]                                                         \n"
     ]
    }
   ],
   "source": [
    "tif_base = os.path.join(folder_for_subtraction_results, 'Step22_no_organic_soils.tif')\n",
    "tif_to_subtract = agricultural_parcels_r\n",
    "tif_output = os.path.join(folder_for_subtraction_results, 'Step23_no_agriculture_parcels.tif')\n",
    "\n",
    "subtract_tif_from_base(tif_base, tif_to_subtract, tif_output)"
   ]
  },
  {
   "cell_type": "markdown",
   "id": "eaa9e86e",
   "metadata": {},
   "source": [
    "## 6. Water bodies and rivers combined\n",
    "[[Click here to turn back to the table of contents]](#Table-of-contents)"
   ]
  },
  {
   "cell_type": "code",
   "execution_count": 58,
   "id": "b2340e87",
   "metadata": {},
   "outputs": [
    {
     "name": "stderr",
     "output_type": "stream",
     "text": [
      "24it [05:52, 14.68s/it]                                                         \n"
     ]
    }
   ],
   "source": [
    "tif_base = os.path.join(folder_for_subtraction_results, 'Step23_no_agriculture_parcels.tif')\n",
    "tif_to_subtract = water_combined_r\n",
    "tif_output = os.path.join(folder_for_subtraction_results, 'Step24_no_water.tif')\n",
    "\n",
    "subtract_tif_from_base(tif_base, tif_to_subtract, tif_output)"
   ]
  },
  {
   "cell_type": "markdown",
   "id": "1118cd1e",
   "metadata": {},
   "source": [
    "## 7. Transport infrastructure\n",
    "[[Click here to turn back to the table of contents]](#Table-of-contents)"
   ]
  },
  {
   "cell_type": "code",
   "execution_count": 59,
   "id": "e60db12a",
   "metadata": {},
   "outputs": [
    {
     "name": "stderr",
     "output_type": "stream",
     "text": [
      "24it [05:58, 14.94s/it]                                                         \n"
     ]
    }
   ],
   "source": [
    "tif_base = os.path.join(folder_for_subtraction_results, 'Step24_no_water.tif')\n",
    "tif_to_subtract = transport_infrastructure_r\n",
    "tif_output = os.path.join(folder_for_subtraction_results, 'Step25_no_transport.tif')\n",
    "\n",
    "subtract_tif_from_base(tif_base, tif_to_subtract, tif_output)"
   ]
  },
  {
   "cell_type": "markdown",
   "id": "e16c2509",
   "metadata": {},
   "source": [
    "## 8. Buildings facilities combined\n",
    "[[Click here to turn back to the table of contents]](#Table-of-contents)"
   ]
  },
  {
   "cell_type": "code",
   "execution_count": 60,
   "id": "e1d606ce",
   "metadata": {},
   "outputs": [
    {
     "name": "stderr",
     "output_type": "stream",
     "text": [
      "24it [2:15:22, 338.43s/it]                                                      \n"
     ]
    }
   ],
   "source": [
    "tif_base = os.path.join(folder_for_subtraction_results, 'Step25_no_transport.tif')\n",
    "tif_to_subtract = buildings_facilities_combined_r\n",
    "tif_output = os.path.join(folder_for_subtraction_results, 'Step26_no_buildings_facilities.tif')\n",
    "\n",
    "subtract_tif_from_base(tif_base, tif_to_subtract, tif_output)"
   ]
  },
  {
   "cell_type": "markdown",
   "id": "91369e39",
   "metadata": {},
   "source": [
    "## 9. Electric lines\n",
    "[[Click here to turn back to the table of contents]](#Table-of-contents)"
   ]
  },
  {
   "cell_type": "code",
   "execution_count": 61,
   "id": "f4632314",
   "metadata": {},
   "outputs": [
    {
     "name": "stderr",
     "output_type": "stream",
     "text": [
      "24it [1:02:05, 155.23s/it]                                                      \n"
     ]
    }
   ],
   "source": [
    "tif_base = os.path.join(folder_for_subtraction_results, 'Step26_no_buildings_facilities.tif')\n",
    "tif_to_subtract = electric_lines_r\n",
    "tif_output = os.path.join(folder_for_subtraction_results, 'Step27_no_electric_lines.tif')\n",
    "\n",
    "subtract_tif_from_base(tif_base, tif_to_subtract, tif_output)"
   ]
  },
  {
   "cell_type": "markdown",
   "id": "4ee3a97c",
   "metadata": {},
   "source": [
    "# Calculating total area of suitable lands\n",
    "[[Click here to turn back to the table of contents]](#Table-of-contents)"
   ]
  },
  {
   "cell_type": "code",
   "execution_count": 4,
   "id": "3fd2441f",
   "metadata": {},
   "outputs": [
    {
     "name": "stdout",
     "output_type": "stream",
     "text": [
      "Number of pixels equal to 1: 2716698675\n",
      "Total area of Estonia: 4346718 ha\n"
     ]
    }
   ],
   "source": [
    "#taking parameters from Estonian layer\n",
    "file_name_whole_estonia_r = 'whole_estonia/Estonia_rasterized_0_1.tif'\n",
    "raster_base_layer = os.path.join(path_scenario_1_r, file_name_whole_estonia_r)\n",
    "\n",
    "with rasterio.open(raster_base_layer) as src:\n",
    "    base_trans = src.transform\n",
    "    base_profile = src.profile\n",
    "    base_shape = src.shape\n",
    "    base_data = src.read(1)\n",
    "    \n",
    "# Create a boolean mask where True represents pixels with value 1\n",
    "mask = base_data == 1\n",
    "\n",
    "# Count the number of True values in the mask\n",
    "num_total_pixels = np.sum(mask)\n",
    "total_area_ha = round((num_total_pixels * 16)/10000)\n",
    "\n",
    "print(\"Number of pixels equal to 1:\", num_total_pixels)\n",
    "print(\"Total area of Estonia: {} ha\".format(total_area_ha))"
   ]
  },
  {
   "cell_type": "code",
   "execution_count": 6,
   "id": "f839ec76",
   "metadata": {},
   "outputs": [],
   "source": [
    "def percent_of_area(geotiff_file):\n",
    "    # Open the GeoTIFF file\n",
    "    with rasterio.open(geotiff_file) as src:\n",
    "        # Read the data\n",
    "        data = src.read(1)\n",
    "\n",
    "    # Create a boolean mask where True represents pixels with value 1\n",
    "    mask = data == 1\n",
    "\n",
    "    # Count the number of True values in the mask\n",
    "    num_pixels = np.sum(mask)\n",
    "    area_ha = round((num_pixels * 16)/10000)\n",
    "    percent_of_estonia = round(area_ha/total_area_ha * 100, 1)\n",
    "\n",
    "    print(\"Number of pixels equal to 1: {}\".format(num_pixels))\n",
    "    print(\"Area: {} ha\".format(area_ha))\n",
    "    print(\"% of the total area: {} %\".format(percent_of_estonia))"
   ]
  },
  {
   "cell_type": "code",
   "execution_count": 10,
   "id": "a11b73e4",
   "metadata": {},
   "outputs": [
    {
     "name": "stdout",
     "output_type": "stream",
     "text": [
      "Number of pixels equal to 1: 105595529\n",
      "Area: 168953 ha\n",
      "% of the total area: 3.9 %\n"
     ]
    }
   ],
   "source": [
    "percent_of_area(os.path.join(folder_for_subtraction_results, 'Step27_no_electric_lines.tif'))"
   ]
  },
  {
   "cell_type": "markdown",
   "id": "a440e871",
   "metadata": {},
   "source": [
    "# Running the code: Scenario 2\n",
    "[[Click here to turn back to the table of contents]](#Table-of-contents)"
   ]
  },
  {
   "cell_type": "code",
   "execution_count": null,
   "id": "ae592b4f",
   "metadata": {},
   "outputs": [],
   "source": [
    "tif_base = os.path.join(folder_for_subtraction_results, 'Step27_no_electric_lines.tif')\n",
    "tif_to_subtract = ditches_r\n",
    "tif_output = os.path.join(folder_for_subtraction_results, 'SCENARIO_2_ditches.tif')\n",
    "\n",
    "subtract_tif_from_base(tif_base, tif_to_subtract, tif_output)"
   ]
  },
  {
   "cell_type": "code",
   "execution_count": null,
   "id": "e8acac7d",
   "metadata": {},
   "outputs": [],
   "source": [
    "percent_of_area(os.path.join(folder_for_subtraction_results, 'SCENARIO_3_seminatural_grasslands.tif'))"
   ]
  },
  {
   "cell_type": "code",
   "execution_count": null,
   "id": "1ebf8c37",
   "metadata": {},
   "outputs": [],
   "source": []
  },
  {
   "cell_type": "markdown",
   "id": "d35c6a65",
   "metadata": {},
   "source": [
    "# Running the code: Scenario 3\n",
    "[[Click here to turn back to the table of contents]](#Table-of-contents)"
   ]
  },
  {
   "cell_type": "code",
   "execution_count": 5,
   "id": "27dacbe2",
   "metadata": {},
   "outputs": [
    {
     "name": "stderr",
     "output_type": "stream",
     "text": [
      "24it [05:45, 14.39s/it]                                                         \n"
     ]
    }
   ],
   "source": [
    "tif_base = os.path.join(folder_for_subtraction_results, 'Step27_no_electric_lines.tif')\n",
    "tif_to_subtract = grasslands_r\n",
    "tif_output = os.path.join(folder_for_subtraction_results, 'SCENARIO_3_seminatural_grasslands.tif')\n",
    "\n",
    "subtract_tif_from_base(tif_base, tif_to_subtract, tif_output)"
   ]
  },
  {
   "cell_type": "code",
   "execution_count": 7,
   "id": "e6665682",
   "metadata": {},
   "outputs": [
    {
     "name": "stdout",
     "output_type": "stream",
     "text": [
      "Number of pixels equal to 1: 2716698675\n",
      "Total area of Estonia: 4346718 ha\n"
     ]
    }
   ],
   "source": [
    "#taking parameters from Estonian layer\n",
    "file_name_whole_estonia_r = 'whole_estonia/Estonia_rasterized_0_1.tif'\n",
    "raster_base_layer = os.path.join(path_scenario_1_r, file_name_whole_estonia_r)\n",
    "\n",
    "with rasterio.open(raster_base_layer) as src:\n",
    "    base_trans = src.transform\n",
    "    base_profile = src.profile\n",
    "    base_shape = src.shape\n",
    "    base_data = src.read(1)\n",
    "    \n",
    "# Create a boolean mask where True represents pixels with value 1\n",
    "mask = base_data == 1\n",
    "\n",
    "# Count the number of True values in the mask\n",
    "num_total_pixels = np.sum(mask)\n",
    "total_area_ha = round((num_total_pixels * 16)/10000)\n",
    "\n",
    "print(\"Number of pixels equal to 1:\", num_total_pixels)\n",
    "print(\"Total area of Estonia: {} ha\".format(total_area_ha))"
   ]
  },
  {
   "cell_type": "code",
   "execution_count": 8,
   "id": "d47fa917",
   "metadata": {},
   "outputs": [
    {
     "name": "stdout",
     "output_type": "stream",
     "text": [
      "Number of pixels equal to 1: 83556134\n",
      "Area: 133690 ha\n",
      "% of the total area: 3.1 %\n"
     ]
    }
   ],
   "source": [
    "percent_of_area(os.path.join(folder_for_subtraction_results, 'SCENARIO_3_seminatural_grasslands.tif'))"
   ]
  },
  {
   "cell_type": "code",
   "execution_count": null,
   "id": "09f4395f",
   "metadata": {},
   "outputs": [],
   "source": []
  },
  {
   "cell_type": "code",
   "execution_count": null,
   "id": "be0340bb",
   "metadata": {},
   "outputs": [],
   "source": [
    "# tif_base = os.path.join(folder_for_subtraction_results, 'Step18.tif')\n",
    "# tif_to_subtract = CHM_2023_suvi\n",
    "# tif_output = os.path.join(folder_for_subtraction_results, 'Step19 - No more historical forest.tif')\n",
    "\n",
    "# subtract_tif_from_base(tif_base, tif_to_subtract, tif_output)"
   ]
  },
  {
   "cell_type": "code",
   "execution_count": null,
   "id": "4ba144f2",
   "metadata": {},
   "outputs": [],
   "source": []
  },
  {
   "cell_type": "code",
   "execution_count": null,
   "id": "4a054c73",
   "metadata": {},
   "outputs": [],
   "source": [
    "# tif_base = os.path.join(folder_for_subtraction_results, 'Step18.tif')\n",
    "# tif_to_subtract = CHM_2023_suvi\n",
    "# tif_output = os.path.join(folder_for_subtraction_results, 'Step19 - No more historical forest.tif')\n",
    "\n",
    "# subtract_tif_from_base(tif_base, tif_to_subtract, tif_output)"
   ]
  },
  {
   "cell_type": "code",
   "execution_count": null,
   "id": "ee078f70",
   "metadata": {},
   "outputs": [],
   "source": []
  },
  {
   "cell_type": "code",
   "execution_count": null,
   "id": "6f16fd44",
   "metadata": {},
   "outputs": [],
   "source": [
    "# tif_base = os.path.join(folder_for_subtraction_results, 'Step18.tif')\n",
    "# tif_to_subtract = CHM_2023_suvi\n",
    "# tif_output = os.path.join(folder_for_subtraction_results, 'Step19 - No more historical forest.tif')\n",
    "\n",
    "# subtract_tif_from_base(tif_base, tif_to_subtract, tif_output)"
   ]
  },
  {
   "cell_type": "code",
   "execution_count": null,
   "id": "4d8ee101",
   "metadata": {},
   "outputs": [],
   "source": []
  },
  {
   "cell_type": "code",
   "execution_count": null,
   "id": "9903a689",
   "metadata": {},
   "outputs": [],
   "source": []
  },
  {
   "cell_type": "code",
   "execution_count": null,
   "id": "0b77d6d1",
   "metadata": {},
   "outputs": [],
   "source": []
  },
  {
   "cell_type": "code",
   "execution_count": null,
   "id": "0de46446",
   "metadata": {},
   "outputs": [],
   "source": []
  },
  {
   "cell_type": "code",
   "execution_count": null,
   "id": "a7aaa222",
   "metadata": {},
   "outputs": [],
   "source": []
  },
  {
   "cell_type": "code",
   "execution_count": null,
   "id": "1cbb8314",
   "metadata": {},
   "outputs": [],
   "source": []
  },
  {
   "cell_type": "code",
   "execution_count": null,
   "id": "f2fc99a7",
   "metadata": {},
   "outputs": [],
   "source": []
  },
  {
   "cell_type": "code",
   "execution_count": null,
   "id": "4075a824",
   "metadata": {},
   "outputs": [],
   "source": []
  },
  {
   "cell_type": "code",
   "execution_count": null,
   "id": "25b65049",
   "metadata": {},
   "outputs": [],
   "source": []
  }
 ],
 "metadata": {
  "kernelspec": {
   "display_name": "Python 3 (ipykernel)",
   "language": "python",
   "name": "python3"
  },
  "language_info": {
   "codemirror_mode": {
    "name": "ipython",
    "version": 3
   },
   "file_extension": ".py",
   "mimetype": "text/x-python",
   "name": "python",
   "nbconvert_exporter": "python",
   "pygments_lexer": "ipython3",
   "version": "3.9.6"
  }
 },
 "nbformat": 4,
 "nbformat_minor": 5
}
